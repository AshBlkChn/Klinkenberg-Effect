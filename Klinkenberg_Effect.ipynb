{
  "nbformat": 4,
  "nbformat_minor": 0,
  "metadata": {
    "colab": {
      "provenance": [],
      "authorship_tag": "ABX9TyOESKkAgBGt5QYauD0IMgwW"
    },
    "kernelspec": {
      "name": "python3",
      "display_name": "Python 3"
    },
    "language_info": {
      "name": "python"
    }
  },
  "cells": [
    {
      "cell_type": "markdown",
      "source": [
        "#KLINKENBERG EFFECT"
      ],
      "metadata": {
        "id": "2_uxUQck2GIl"
      }
    },
    {
      "cell_type": "code",
      "source": [
        "#Pm is the Mean Pressure\n",
        "#Kg is the Air (Gas) Permeability\n",
        "#Kl is the Liquid Permeability (considering Klinkenberg Effect)\n",
        "\n",
        "Pm= input(\"Enter the value of the mean pressure: \");\n",
        "Pm= float(Pm);\n",
        "\n",
        "Kg= input(\"Enter the value of air(gas) permeability: \");\n",
        "Kg= float(Kg);\n",
        "\n",
        "Kl= input(\"Enter the approximated value of the liquid permeability: \");\n",
        "Kl= float(Kl);\n",
        "\n",
        "#Sample Data Source: Tarek Ahmed, Reservoir Engineering Handbook"
      ],
      "metadata": {
        "colab": {
          "base_uri": "https://localhost:8080/"
        },
        "id": "8xVLB5FD2bNc",
        "outputId": "17280201-f6d7-48e6-f6e1-199f8c9069a0"
      },
      "execution_count": 38,
      "outputs": [
        {
          "name": "stdout",
          "output_type": "stream",
          "text": [
            "Enter the value of the mean pressure: 2.512\n",
            "Enter the value of air(gas) permeability: 46.6\n",
            "Enter the approximated value of the liquid permeability: 27\n"
          ]
        }
      ]
    },
    {
      "cell_type": "markdown",
      "source": [
        "###The governing equations of the Klinkenberg effect involves the terms mentioned above as follows:\n",
        "####b = 6.9 * Kl ** ( -0.36 )\n",
        "####6.9 * Kl ** 0.64 + Pm * Kl − Pm * Kg = 0"
      ],
      "metadata": {
        "id": "7_iv9OvP3qdo"
      }
    },
    {
      "cell_type": "markdown",
      "source": [
        "###Approaching through the Newton Raphson's Method of Iteration"
      ],
      "metadata": {
        "id": "koLHwRN_2bAL"
      }
    },
    {
      "cell_type": "code",
      "source": [
        "while abs(6.9 * Kl ** 0.64 + Pm * Kl - Pm * Kg) > 0.00001:\n",
        "  Kl = Kl - ((6.9 * Kl ** 0.64 + Pm * Kl - Pm * Kg) / (4.416 * Kl ** (-0.36) + Pm));\n",
        "\n",
        "print(\"The Liquid permeability found through the iterative analysis via the Newton Raphson's method is\", Kl);"
      ],
      "metadata": {
        "colab": {
          "base_uri": "https://localhost:8080/"
        },
        "id": "aGiaDCfb2lXJ",
        "outputId": "8e2a735e-1837-4f42-9681-3ec279aa3a72"
      },
      "execution_count": 39,
      "outputs": [
        {
          "output_type": "stream",
          "name": "stdout",
          "text": [
            "The Liquid permeability found through the iterative analysis via the Newton Raphson's method is 25.030183704050728\n"
          ]
        }
      ]
    },
    {
      "cell_type": "markdown",
      "source": [
        "###Comparing the Result with the Actual Absolute Permeability"
      ],
      "metadata": {
        "id": "W76fGjNU6K09"
      }
    },
    {
      "cell_type": "code",
      "source": [
        "Kla = input(\"Enter the value of the liquid permeability found through the Reservoir Analysis: \");\n",
        "Kla = float(Kla);\n",
        "\n",
        "Diff = Kl - Kla;\n",
        "print(\"The difference between the Iterated value and Experimental value is\", Diff);"
      ],
      "metadata": {
        "colab": {
          "base_uri": "https://localhost:8080/"
        },
        "id": "n55paAc887xF",
        "outputId": "754320cd-9b90-445d-9713-2378a4c35d0c"
      },
      "execution_count": 40,
      "outputs": [
        {
          "output_type": "stream",
          "name": "stdout",
          "text": [
            "Enter the value of the liquid permeability found through the Reservoir Analysis: 23.66\n",
            "The difference between the Iterated value and Experimental value is 1.3701837040507279\n"
          ]
        }
      ]
    }
  ]
}